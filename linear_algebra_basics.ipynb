{
 "cells": [
  {
   "cell_type": "markdown",
   "id": "52772734-221b-47ef-b856-dfc2018665a5",
   "metadata": {},
   "source": [
    "Linear algebra enables us to express complex expressions in a compact and universally understood way. Now that we have explored mathematical theory relating to matrices and are familiar with some functions which can be applied to these, our challenge is to code these in Python.\r\n",
    "\r\n",
    "The section below will give a short demonstration of the mathematics behind each of the matrix operations. You then have the opportunity to try these out using Python."
   ]
  },
  {
   "cell_type": "code",
   "execution_count": 51,
   "id": "2c5d1f2f-6fe5-44eb-bdc9-0199e90b0828",
   "metadata": {},
   "outputs": [
    {
     "name": "stdout",
     "output_type": "stream",
     "text": [
      "0.5\n"
     ]
    }
   ],
   "source": [
    "#(1)Load libraries and create matrix:\n",
    "%matplotlib inline\n",
    "import sympy as sympy\n",
    "import numpy as np\n",
    "import matplotlib.pyplot as plt\n",
    "import seaborn as sbn\n",
    "from scipy import *\n",
    "\n",
    "#Create scalers - define scaler:\n",
    "x = .5\n",
    "print(x)"
   ]
  },
  {
   "cell_type": "code",
   "execution_count": 53,
   "id": "6fcb95b1-e476-4d37-a6a6-8f32941c012c",
   "metadata": {},
   "outputs": [
    {
     "name": "stdout",
     "output_type": "stream",
     "text": [
      "[1 2 3]\n"
     ]
    }
   ],
   "source": [
    "#Create vectors and lists using numpy for linear algebra. To create a vector apply the np.array function to a Python list ([1,2,3]).:\n",
    "x_vector = np.array([1,2,3])\n",
    "print(x_vector)\n"
   ]
  },
  {
   "cell_type": "code",
   "execution_count": 55,
   "id": "b443e124-0886-400d-93f7-f611f1d62226",
   "metadata": {},
   "outputs": [
    {
     "name": "stdout",
     "output_type": "stream",
     "text": [
      "The list: 2\n",
      "Has length: 2\n"
     ]
    }
   ],
   "source": [
    "#The example above is a compact way to create a vector. You can also create a vector by defining a list and converting it to an array 👇:\n",
    "c_list = [1,2]\n",
    "print(\"The list:\", len(c_list))\n",
    "print(\"Has length:\", len(c_list))"
   ]
  },
  {
   "cell_type": "code",
   "execution_count": 57,
   "id": "46b9d5c9-4674-4d1c-b862-601cba76653b",
   "metadata": {},
   "outputs": [
    {
     "name": "stdout",
     "output_type": "stream",
     "text": [
      "The vector: [1 2]\n",
      "Has shape: (2,)\n"
     ]
    }
   ],
   "source": [
    "c_vector = np.array(c_list)\n",
    "print(\"The vector:\", c_vector)\n",
    "print(\"Has shape:\", c_vector.shape)"
   ]
  },
  {
   "cell_type": "code",
   "execution_count": 59,
   "id": "921a2624-9915-47fa-9f05-b6d6014be599",
   "metadata": {},
   "outputs": [
    {
     "name": "stdout",
     "output_type": "stream",
     "text": [
      "This is a list, not an array: [5, 6]\n",
      "<class 'list'>\n"
     ]
    }
   ],
   "source": [
    "#Note: A list is not an array. An array is not a list:\n",
    "z = [5, 6]\n",
    "print(\"This is a list, not an array:\",z)\n",
    "print(type(z))"
   ]
  },
  {
   "cell_type": "code",
   "execution_count": 30,
   "id": "d7d9ee08-072b-4504-b36b-40d2582bbe52",
   "metadata": {},
   "outputs": [
    {
     "name": "stdout",
     "output_type": "stream",
     "text": [
      "This is an array, not a list [5 6]\n",
      "<class 'numpy.ndarray'>\n"
     ]
    }
   ],
   "source": [
    "#Define array x = np.array()\n",
    "zarray = np.array(z)\n",
    "print(\"This is an array, not a list\", zarray)\n",
    "print(type(zarray))"
   ]
  },
  {
   "cell_type": "code",
   "execution_count": 61,
   "id": "3bb20964-9c31-4c8b-a559-48294d506aa0",
   "metadata": {},
   "outputs": [
    {
     "name": "stdout",
     "output_type": "stream",
     "text": [
      "[(5, 1), (6, 2)]\n"
     ]
    }
   ],
   "source": [
    "#Create a matrix:\n",
    "\n",
    "b = list(zip(z,c_vector))\n",
    "print(b)\n",
    "\n",
    "#Note that the length of our zipped list is 2, not (2 by 2)."
   ]
  },
  {
   "cell_type": "code",
   "execution_count": 63,
   "id": "719c65e6-e517-455a-9b9c-bea281f1d330",
   "metadata": {},
   "outputs": [
    {
     "name": "stdout",
     "output_type": "stream",
     "text": [
      "[[5 1]\n",
      " [6 2]]\n",
      "<class 'numpy.ndarray'>\n",
      "A has shape: (2, 2)\n"
     ]
    }
   ],
   "source": [
    "#We can convert this list to a matrix:\n",
    "A = np.array(b)\n",
    "print( A)\n",
    "print( type(A))\n",
    "print( \"A has shape:\", A.shape)"
   ]
  },
  {
   "cell_type": "code",
   "execution_count": 65,
   "id": "5334568f-abe6-4225-b494-e5f634ce3ae3",
   "metadata": {},
   "outputs": [
    {
     "name": "stdout",
     "output_type": "stream",
     "text": [
      "[[8 4]\n",
      " [9 5]]\n"
     ]
    }
   ],
   "source": [
    "#(2)Add or subtract matrices - We will start with two 2x2 matrices, where 2x2 indicates the number of rows x the number of columns:\n",
    "result = A + 3\n",
    "#or\n",
    "result = 3 + A\n",
    "print( result)"
   ]
  },
  {
   "cell_type": "code",
   "execution_count": 47,
   "id": "29e573d1-9e93-42c3-8605-8055deaa7c94",
   "metadata": {
    "scrolled": true
   },
   "outputs": [
    {
     "name": "stdout",
     "output_type": "stream",
     "text": [
      "[[-2  2]\n",
      " [-3  1]]\n"
     ]
    }
   ],
   "source": [
    "#To subtract matrix B from matrix A, subtract each element of B from the corresponding element in A.\n",
    "result = A - 3\n",
    "#or\n",
    "result = 3 - A\n",
    "print( result)\n"
   ]
  },
  {
   "attachments": {},
   "cell_type": "markdown",
   "id": "eafd93c3-99f9-47ff-9cef-8c765dbfc378",
   "metadata": {},
   "source": [
    "It is important to note that matrix addition and subtraction can only be defined when A and B are the same size. The matrices must be conformable since the operation is performed element by element. For addition and subtraction conformable means the matrices must each have the same number of rows, and each have the same number of columns."
   ]
  },
  {
   "cell_type": "markdown",
   "id": "34217080-1094-4a70-b299-82596072af19",
   "metadata": {},
   "source": [
    "Scalar multiplication is commutative: 3xA = Ax3\r\n",
    "\r\n",
    "Note that the product is defined for a matrix of any dimension.f any dimension."
   ]
  },
  {
   "cell_type": "code",
   "execution_count": 71,
   "id": "71a73b75-a18b-4a41-85da-5ab02f0cb465",
   "metadata": {},
   "outputs": [
    {
     "name": "stdout",
     "output_type": "stream",
     "text": [
      "[[15  3]\n",
      " [18  6]]\n"
     ]
    }
   ],
   "source": [
    "#Multiply a matrix by a scalar value\n",
    "A = np.array([[5, 1], [6, 2]])\n",
    "result = A * 3\n",
    "print(result)"
   ]
  },
  {
   "cell_type": "markdown",
   "id": "c0ba93e4-44c0-436c-b32d-9b83bdddb5ca",
   "metadata": {},
   "source": [
    "Multiplying two matrices\n",
    "\n",
    "Consider the following examples for multiplication\r\n",
    "\r\n",
    "First of all we will multiply one of our matrices above by vector C. LaTeX: \\Large \\displaystyle C=\\bigl( \\begin{smallmatrix} c_{11} \\\\ \r\n",
    "  c_{21} \r\n",
    "\\end{smallmatrix} \\bigr)\r\n",
    "\r\n",
    "We can multiply a matrix A2x2 and the vector C2x1. Unlike in the case of addition and subtraction above, here conformability depends only on the column dimension of the first operand and the row dimension of the second operand. In this case they both have the value 2, so these matrices can be multiplied."
   ]
  },
  {
   "cell_type": "code",
   "execution_count": 75,
   "id": "14a39437-0d0c-4a64-88bc-995556a6cd95",
   "metadata": {},
   "outputs": [
    {
     "name": "stdout",
     "output_type": "stream",
     "text": [
      "[[11 19]\n",
      " [14 26]]\n"
     ]
    }
   ],
   "source": [
    "#multiplying two matrices:\n",
    "# Define matrices A and C\n",
    "A = np.array([[5, 1], [6, 2]])\n",
    "C = np.array([[2, 3], [1, 4]])\n",
    "\n",
    "# Multiply A and C\n",
    "result = A @ C  # or np.dot(A, C)\n",
    "print(result)\n"
   ]
  },
  {
   "cell_type": "markdown",
   "id": "81c2706f-d1dd-44e4-babf-918ffc72daca",
   "metadata": {},
   "source": [
    "👆\n",
    "The @ operator (or np.dot()) is used to multiply the two matrices.\n",
    "The resulting matrix has dimensions determined by the rows of A and the columns of C"
   ]
  },
  {
   "cell_type": "markdown",
   "id": "be789005-ae8d-425a-aa38-3e1f63ffe6f8",
   "metadata": {},
   "source": [
    "Division:\n",
    "The term 'division' can be confusing when it comes to matrices. To carry this out we need to invert the matrix which is the divisor and then multiply.\n",
    "The second option requires two steps: invert g and then multiply f times g-1. This is the method we use in the matrix world to carry out division. However, there is an additional consideration. We know that multiplication of matrices is not generally commutative so we must consider whether we want to pre multiply or post multiply.\n"
   ]
  },
  {
   "cell_type": "raw",
   "id": "71019fe2-d6bc-486f-a350-b00647d7ed53",
   "metadata": {},
   "source": [
    "Transpose a Matrix: There may be times when it will be useful to transpose, or pivot a matrix for conformability. In some cases this will be to allow us to divide or multiply. To transpose a matrix is to switch the rows and columns dimensions."
   ]
  },
  {
   "cell_type": "code",
   "execution_count": 79,
   "id": "8ab6c619-5ca9-475d-9e83-feed3e661480",
   "metadata": {},
   "outputs": [
    {
     "name": "stdout",
     "output_type": "stream",
     "text": [
      "A is\n",
      "[[0 1]\n",
      " [2 3]\n",
      " [4 5]]\n",
      "The Transpose of A is\n",
      "[[0 2 4]\n",
      " [1 3 5]]\n"
     ]
    }
   ],
   "source": [
    "A = np.arange(6).reshape((3,2))\n",
    "B = np.arange(8).reshape((2,4))\n",
    "print( \"A is\")\n",
    "print( A)\n",
    "\n",
    "print( \"The Transpose of A is\")\n",
    "print( A.T)"
   ]
  },
  {
   "cell_type": "code",
   "execution_count": 81,
   "id": "957bf575-51fb-4eae-9cbd-05c1ee27cd6c",
   "metadata": {},
   "outputs": [
    {
     "name": "stdout",
     "output_type": "stream",
     "text": [
      "[[ 58 139]\n",
      " [ 64 154]]\n",
      "Is identical to:\n",
      "[[ 58 139]\n",
      " [ 64 154]]\n"
     ]
    }
   ],
   "source": [
    "# Define matrices A and B\n",
    "A = np.array([[1, 2, 3], [4, 5, 6]])  # 2x3 matrix (NxM)\n",
    "B = np.array([[7, 8], [9, 10], [11, 12]])  # 3x2 matrix (MxP)\n",
    "\n",
    "# Calculate (AB).T and B.T @ A.T\n",
    "product_transpose = (A @ B).T\n",
    "transpose_product = B.T @ A.T\n",
    "\n",
    "# Print both results\n",
    "print(product_transpose)\n",
    "print(\"Is identical to:\")\n",
    "print(transpose_product)"
   ]
  },
  {
   "cell_type": "code",
   "execution_count": null,
   "id": "e48dbf56-f008-448b-82e5-0a965529d6ba",
   "metadata": {},
   "outputs": [],
   "source": []
  }
 ],
 "metadata": {
  "kernelspec": {
   "display_name": "Python 3 (ipykernel)",
   "language": "python",
   "name": "python3"
  },
  "language_info": {
   "codemirror_mode": {
    "name": "ipython",
    "version": 3
   },
   "file_extension": ".py",
   "mimetype": "text/x-python",
   "name": "python",
   "nbconvert_exporter": "python",
   "pygments_lexer": "ipython3",
   "version": "3.12.4"
  }
 },
 "nbformat": 4,
 "nbformat_minor": 5
}
